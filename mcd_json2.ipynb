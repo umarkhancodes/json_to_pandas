{
 "cells": [
  {
   "cell_type": "code",
   "execution_count": null,
   "metadata": {},
   "outputs": [],
   "source": [
    "import os\n",
    "import glob\n",
    "import numpy as np\n",
    "import json\n",
    "import pandas as pd\n",
    "from pandas.io.json import json_normalize\n",
    "\n",
    "\n",
    "with open('jira_response.json') as j_data:\n",
    "    JSON=json.load(j_data)\n",
    "    \n"
   ]
  },
  {
   "cell_type": "code",
   "execution_count": null,
   "metadata": {},
   "outputs": [],
   "source": [
    "lvl_1=[]\n",
    "for x in JSON:\n",
    "    l=[]\n",
    "    l.append(x)\n",
    "    l.append(JSON[x])\n",
    "    lvl_1.append(l)"
   ]
  },
  {
   "cell_type": "code",
   "execution_count": null,
   "metadata": {},
   "outputs": [],
   "source": [
    "def openornot(d):\n",
    "\n",
    "    if(type(d)==dict):\n",
    "        for key in d:\n",
    "            if((type(d[key])==dict)or(type(d[key])==list)):\n",
    "                d_tl.append(key)\n",
    "                d_tl.append('tickstart')\n",
    "                openornot(d[key])\n",
    "                \n",
    "                \n",
    "            else:\n",
    "                dl0.append(key)\n",
    "                dl1.append(d[key])\n",
    "                d_tl.append(key)\n",
    "        d_tl.append('tickend')\n",
    "\n",
    "    elif(type(d)==list):\n",
    "        for x in range(len(d)):\n",
    "            if((type(d[x])==list)or(type(d[x])==dict)):\n",
    "\n",
    "                openornot(d[x])\n",
    "                \n",
    "            else:\n",
    "                dl0.append(dl0[-1])\n",
    "                dl1.append(d[x])\n",
    "                "
   ]
  },
  {
   "cell_type": "code",
   "execution_count": null,
   "metadata": {},
   "outputs": [],
   "source": [
    "def dtltotop(d_tl):\n",
    "    d_tl.pop()\n",
    "    inmain=False\n",
    "    main_headings=[]\n",
    "    top=[]\n",
    "    for x in range(len(d_tl)):\n",
    "        if((d_tl[x] in dl0)  and (inmain==False)):\n",
    "            top.append(d_tl[x])\n",
    "        elif(d_tl[x]=='tickstart' and inmain==False):\n",
    "            inmain=True\n",
    "            main_headings.append(d_tl[x-1])\n",
    "        elif(d_tl[x]=='tickstart' and inmain==True):\n",
    "            main_headings.append(d_tl[x-1])\n",
    "        elif((d_tl[x] in dl0)  and (inmain==True)):\n",
    "            top.append(main_headings[-1])\n",
    "        elif(inmain==True and d_tl[x]=='tickend'):\n",
    "            main_headings.pop()\n",
    "            if(len(main_headings)==0):\n",
    "                inmain=False\n",
    "            else:\n",
    "                pass\n",
    "        else:\n",
    "            pass\n",
    "    print(top)\n",
    "    return top\n"
   ]
  },
  {
   "cell_type": "code",
   "execution_count": null,
   "metadata": {},
   "outputs": [],
   "source": [
    "check=True\n",
    "dl0=[]\n",
    "dl1=[]\n",
    "d_tl=[]\n",
    "parents=[]\n",
    "input=lvl_1[3]\n",
    "dic=False\n",
    "for x in input:\n",
    "    if (type(x)==dict):\n",
    "        dic=True\n",
    "        openornot(x)\n",
    "        print(d_tl,'\\n\\n\\n\\n',dl0,'\\n\\n\\n\\n',dl1)\n",
    "        print('\\n\\n',len(parents),len(d_tl),len(dl0),len(dl1))\n",
    "        print('\\n\\n')\n",
    "\n",
    "        if(len(d_tl)>0):\n",
    "            top=dtltotop(d_tl)\n",
    "            print(len(top),len(dl0),len(dl1))\n",
    "            #print(top,'\\n\\n',dl0,'\\n\\n',dl1)\n",
    "            out_dic={'topheading':top,'subheadings':dl0,'values':dl1}\n",
    "            #out_dic={'subheadings':dl0,'values':dl1}\n",
    "            df=pd.DataFrame(out_dic)\n",
    "            out=df\n",
    "        else:\n",
    "            out_dic={'headings':parents,'values':dl1}\n",
    "            df=pd.DataFrame(out_dic)\n",
    "            out=df\n",
    "    else:\n",
    "        print(\"pass\")\n",
    "        \n",
    "if (dic==False):\n",
    "    df=pd.DataFrame(input)\n",
    "    header=df.iloc[0]\n",
    "    out=df[1:]\n",
    "    out.columns=header\n",
    "    \n",
    "out"
   ]
  },
  {
   "cell_type": "code",
   "execution_count": null,
   "metadata": {},
   "outputs": [],
   "source": [
    "df.to_csv('final.csv', index=False) "
   ]
  },
  {
   "cell_type": "code",
   "execution_count": null,
   "metadata": {},
   "outputs": [],
   "source": [
    "JSON['issue']['fields']['issuetype']"
   ]
  },
  {
   "cell_type": "code",
   "execution_count": null,
   "metadata": {},
   "outputs": [],
   "source": [
    "z=JSON['issue']['fields']\n",
    "out=[]\n",
    "for x in z:\n",
    "    if (z[x] is None):\n",
    "        pass\n",
    "    else:\n",
    "        out.append([x,z[x]])"
   ]
  },
  {
   "cell_type": "code",
   "execution_count": null,
   "metadata": {},
   "outputs": [],
   "source": [
    "for x in out:\n",
    "    print(x[0])"
   ]
  },
  {
   "cell_type": "code",
   "execution_count": null,
   "metadata": {},
   "outputs": [],
   "source": [
    "out[2]"
   ]
  },
  {
   "cell_type": "code",
   "execution_count": null,
   "metadata": {},
   "outputs": [],
   "source": []
  }
 ],
 "metadata": {
  "kernelspec": {
   "display_name": "Python 3",
   "language": "python",
   "name": "python3"
  },
  "language_info": {
   "codemirror_mode": {
    "name": "ipython",
    "version": 3
   },
   "file_extension": ".py",
   "mimetype": "text/x-python",
   "name": "python",
   "nbconvert_exporter": "python",
   "pygments_lexer": "ipython3",
   "version": "3.7.3"
  }
 },
 "nbformat": 4,
 "nbformat_minor": 4
}
